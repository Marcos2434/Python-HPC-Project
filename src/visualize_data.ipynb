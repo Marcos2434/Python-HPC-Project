{
 "cells": [
  {
   "cell_type": "code",
   "execution_count": null,
   "id": "99f58a41",
   "metadata": {},
   "outputs": [],
   "source": [
    "from os.path import join\n",
    "import sys\n",
    "import numpy as np\n",
    "\n",
    "from simulate import load_data, jacobi, summary_stats\n",
    "\n",
    "from time import time"
   ]
  },
  {
   "cell_type": "code",
   "execution_count": 23,
   "id": "5877c697",
   "metadata": {},
   "outputs": [],
   "source": [
    "LOAD_DIR = '/dtu/projects/02613_2025/data/modified_swiss_dwellings/'\n",
    "\n",
    "# Run jacobi iterations for each floor plan\n",
    "MAX_ITER = 20_000\n",
    "ABS_TOL = 1e-4\n",
    "\n",
    "# number of buildings to load\n",
    "N = 1"
   ]
  },
  {
   "cell_type": "code",
   "execution_count": 24,
   "metadata": {},
   "outputs": [
    {
     "name": "stdout",
     "output_type": "stream",
     "text": [
      "building_id, mean_temp, std_temp, pct_above_18, pct_below_15\n",
      "10000, 14.01233878811275, 6.367431059312565, 30.941014791508444, 55.542295034537624\n"
     ]
    }
   ],
   "source": [
    "# Load data\n",
    "with open(join(LOAD_DIR, 'building_ids.txt'), 'r') as f:\n",
    "    building_ids = f.read().splitlines()\n",
    "\n",
    "building_ids = building_ids[:N]\n",
    "\n",
    "# Load floor plans\n",
    "all_u0 = np.empty((N, 514, 514))\n",
    "all_interior_mask = np.empty((N, 512, 512), dtype='bool')\n",
    "for i, bid in enumerate(building_ids):\n",
    "    u0, interior_mask = load_data(LOAD_DIR, bid)\n",
    "    all_u0[i] = u0\n",
    "    all_interior_mask[i] = interior_mask\n",
    "\n",
    "all_u = np.empty_like(all_u0)\n",
    "for i, (u0, interior_mask) in enumerate(zip(all_u0, all_interior_mask)):\n",
    "    u = jacobi(u0, interior_mask, MAX_ITER, ABS_TOL)\n",
    "    all_u[i] = u\n",
    "\n",
    "# Print summary statistics in CSV format\n",
    "stat_keys = ['mean_temp', 'std_temp', 'pct_above_18', 'pct_below_15']\n",
    "print('building_id, ' + ', '.join(stat_keys))  # CSV header\n",
    "for bid, u, interior_mask in zip(building_ids, all_u, all_interior_mask):\n",
    "    stats = summary_stats(u, interior_mask)\n",
    "    print(f\"{bid},\", \", \".join(str(stats[k]) for k in stat_keys))"
   ]
  },
  {
   "cell_type": "code",
   "execution_count": 21,
   "metadata": {},
   "outputs": [
    {
     "name": "stdout",
     "output_type": "stream",
     "text": [
      "2.8848648071289062e-05\n"
     ]
    }
   ],
   "source": [
    "t_init = time()\n",
    "\n",
    "N = 10\n",
    "\n",
    "# Load data\n",
    "with open(join(LOAD_DIR, 'building_ids.txt'), 'r') as f:\n",
    "    building_ids = f.read().splitlines()\n",
    "\n",
    "building_ids = building_ids[:N]\n",
    "\n",
    "# Load floor plans\n",
    "all_u0 = np.empty((N, 514, 514))\n",
    "all_interior_mask = np.empty((N, 512, 512), dtype='bool')\n",
    "for i, bid in enumerate(building_ids):\n",
    "    u0, interior_mask = load_data(LOAD_DIR, bid)\n",
    "    all_u0[i] = u0\n",
    "    all_interior_mask[i] = interior_mask\n",
    "\n",
    "all_u = np.empty_like(all_u0)\n",
    "for i, (u0, interior_mask) in enumerate(zip(all_u0, all_interior_mask)):\n",
    "    u = jacobi(u0, interior_mask, MAX_ITER, ABS_TOL)\n",
    "    all_u[i] = u\n",
    "\n",
    "# Print summary statistics in CSV format\n",
    "stat_keys = ['mean_temp', 'std_temp', 'pct_above_18', 'pct_below_15']\n",
    "print('building_id, ' + ', '.join(stat_keys))  # CSV header\n",
    "for bid, u, interior_mask in zip(building_ids, all_u, all_interior_mask):\n",
    "    stats = summary_stats(u, interior_mask)\n",
    "    print(f\"{bid},\", \", \".join(str(stats[k]) for k in stat_keys))\n",
    "\n",
    "\n",
    "t_elapsed = time() - t_init\n",
    "\n",
    "print(t_elapsed)"
   ]
  },
  {
   "cell_type": "code",
   "execution_count": null,
   "metadata": {},
   "outputs": [],
   "source": [
    "LOAD_DIR = '/dtu/projects/02613_2025/data/modified_swiss_dwellings/'\n",
    "with open(join(LOAD_DIR, 'building_ids.txt'), 'r') as f:\n",
    "            building_ids = f.read().splitlines()\n",
    "print(len(building_ids))"
   ]
  }
 ],
 "metadata": {
  "kernelspec": {
   "display_name": "Python 3",
   "language": "python",
   "name": "python3"
  },
  "language_info": {
   "codemirror_mode": {
    "name": "ipython",
    "version": 3
   },
   "file_extension": ".py",
   "mimetype": "text/x-python",
   "name": "python",
   "nbconvert_exporter": "python",
   "pygments_lexer": "ipython3",
   "version": "3.9.21"
  }
 },
 "nbformat": 4,
 "nbformat_minor": 5
}
